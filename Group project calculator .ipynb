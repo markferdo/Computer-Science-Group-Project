{
 "cells": [
  {
   "cell_type": "code",
   "execution_count": 1,
   "id": "a2bd4bf7",
   "metadata": {},
   "outputs": [
    {
     "name": "stdout",
     "output_type": "stream",
     "text": [
      "Operations \n",
      " add - a \n",
      " substract - s \n",
      " multiply - m \n",
      " devide - d \n",
      " power - p \n",
      " square root- sr \n",
      " exit- e\n",
      "Enter operation: p\n",
      "Enter no : 2\n",
      "Enter power :5\n",
      "Total: 32.0\n",
      "Want to continue(1) - Want to exit(0)1\n",
      "Enter operation: sr\n",
      "Enter no : 4\n",
      "Total: 2.0\n",
      "Want to continue(1) - Want to exit(0)0\n"
     ]
    }
   ],
   "source": [
    "print(\"Operations \\n add - a \\n substract - s \\n multiply - m \\n devide - d \\n power - p \\n square root- sr \\n exit- e\")\n",
    "x = 1\n",
    "while x != 0:\n",
    "    \n",
    "    import math\n",
    "    operation = str(input(\"Enter operation: \"))\n",
    "    if operation == \"p\":\n",
    "        num1 = float(input(\"Enter no : \"))\n",
    "        num2 = 1\n",
    "        power = int(input(\"Enter power :\"))\n",
    "    elif operation == \"sr\":\n",
    "        num1 = float(input(\"Enter no : \"))\n",
    "        num2 = 1\n",
    "        power = 1\n",
    "    else:\n",
    "        num1 = float(input(\"Enter no 1: \"))\n",
    "        num2 = float(input(\"Enter no 2: \"))\n",
    "        power = 1\n",
    "\n",
    "    def calculator(num1,num2,operation,power):\n",
    "        if operation == \"a\":\n",
    "            print(f\"Total: {num1 + num2}\")\n",
    "        elif operation == \"s\":\n",
    "            print(f\"Total: {num1 - num2}\")\n",
    "        elif operation == \"m\":\n",
    "            print(f\"Total: {num1 * num2}\")\n",
    "        elif operation == \"d\":\n",
    "            print(f\"Total: {num1 / num2}\")\n",
    "        elif operation == \"p\":\n",
    "            print(f\"Total: {num1**power}\")\n",
    "        elif operation == \"sr\":\n",
    "            print(f\"Total: {math.sqrt(num1)}\")\n",
    "        else:\n",
    "            print(\"Enter correct operation\")\n",
    "\n",
    "    calculator(num1,num2,operation,power)\n",
    "    \n",
    "    \n",
    "    x = int(input(\"Want to continue(1) - Want to exit(0)\"))\n",
    "    if x == 0:\n",
    "        break\n",
    "\n",
    "\n",
    "    \n",
    " "
   ]
  },
  {
   "cell_type": "code",
   "execution_count": null,
   "id": "ce35556b",
   "metadata": {},
   "outputs": [],
   "source": []
  }
 ],
 "metadata": {
  "kernelspec": {
   "display_name": "Python [conda env:.conda-Basic] *",
   "language": "python",
   "name": "conda-env-.conda-Basic-py"
  },
  "language_info": {
   "codemirror_mode": {
    "name": "ipython",
    "version": 3
   },
   "file_extension": ".py",
   "mimetype": "text/x-python",
   "name": "python",
   "nbconvert_exporter": "python",
   "pygments_lexer": "ipython3",
   "version": "3.9.13"
  }
 },
 "nbformat": 4,
 "nbformat_minor": 5
}
